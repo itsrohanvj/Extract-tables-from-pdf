{
 "cells": [
  {
   "cell_type": "markdown",
   "metadata": {},
   "source": [
    "# Python Technical Assignment"
   ]
  },
  {
   "cell_type": "code",
   "execution_count": 534,
   "metadata": {},
   "outputs": [],
   "source": [
    "import camelot   #pdf extraction is done using camelot "
   ]
  },
  {
   "cell_type": "code",
   "execution_count": 535,
   "metadata": {},
   "outputs": [],
   "source": [
    "import pandas as pd #pandas for miscellaneous tabular activity"
   ]
  },
  {
   "cell_type": "code",
   "execution_count": 536,
   "metadata": {},
   "outputs": [],
   "source": [
    "tables = camelot.read_pdf('test_input.pdf',flavor='stream', row_tol=10) #reading the pdf, \"row_tol\" function to group rows closer together\n",
    "# flovor= stream becaus of the table structure."
   ]
  },
  {
   "cell_type": "code",
   "execution_count": 537,
   "metadata": {},
   "outputs": [],
   "source": [
    "df=tables[0].df #[5:] #  reading the extracted table in dataframe"
   ]
  },
  {
   "cell_type": "code",
   "execution_count": null,
   "metadata": {},
   "outputs": [],
   "source": [
    "df"
   ]
  },
  {
   "cell_type": "code",
   "execution_count": 538,
   "metadata": {},
   "outputs": [],
   "source": [
    "data={'value_date':[],\n",
    "     'order_date':[],\n",
    "     'description':[],\n",
    "     'currency':[],\n",
    "     'debit':[],\n",
    "     'credit':[]}\n",
    "\n",
    "# defining a dictionary which will be used to store the output"
   ]
  },
  {
   "cell_type": "code",
   "execution_count": 539,
   "metadata": {},
   "outputs": [],
   "source": [
    "for col in df:\n",
    "    for row in df.index:\n",
    "        value=df.at[row,col]  #reading specific cell value\n",
    "        \n",
    "        if col==0:   # for column 1\n",
    "            if value.find('epo')>0:\n",
    "                curr=value[-3:]  #to store the currency\n",
    "                \n",
    "            if value.endswith('2019'):                   #storing dates\n",
    "                data['value_date'].append(value)\n",
    "                data['currency'].append(curr)\n",
    "                \n",
    "        if col==1: # for column 2\n",
    "            if value.endswith('2019'):                   #storing dates\n",
    "                data['order_date'].append(value)\n",
    "                \n",
    "        if col==2 and df.at[row,col-1]!=\"\":                   # for column 2\n",
    "            if value.isupper():\n",
    "                data['description'].append(value)          #storing the Description\n",
    "                \n",
    "        if col==3 and df.at[row,col-1].isupper()==True:              # for column 4\n",
    "            \n",
    "            if value.endswith(\")\"):\n",
    "                value=value[1:-1]                          #removing braces from the value\n",
    "                temp_list=value.split(\",\")  \n",
    "                value=''.join(temp_list)                     # removing commas from the value\n",
    "                data['debit'].append(value)         #storing the braces values in debit category\n",
    "                data['credit'].append(\" \")\n",
    "            else:\n",
    "                temp_list=value.split(\",\")\n",
    "                value=''.join(temp_list)\n",
    "                data['debit'].append(\" \"),  #storing the values in credit category\n",
    "                data['credit'].append(value)\n",
    "                \n",
    "        "
   ]
  },
  {
   "cell_type": "code",
   "execution_count": null,
   "metadata": {},
   "outputs": [],
   "source": [
    "data"
   ]
  },
  {
   "cell_type": "code",
   "execution_count": null,
   "metadata": {},
   "outputs": [],
   "source": [
    "df2=pd.DataFrame(data) # creating a new datafrome and adding the dictionary"
   ]
  },
  {
   "cell_type": "code",
   "execution_count": 541,
   "metadata": {},
   "outputs": [],
   "source": [
    "df2=df2.sort_values(by=['value_date'], ascending=True)  #sorted the values acc to value to date"
   ]
  },
  {
   "cell_type": "code",
   "execution_count": 542,
   "metadata": {},
   "outputs": [],
   "source": [
    "df2['value_date'] = pd.to_datetime(df2['value_date']).dt.date #converting the date formats\n",
    "df2['order_date'] = pd.to_datetime(df2['order_date']).dt.date"
   ]
  },
  {
   "cell_type": "code",
   "execution_count": null,
   "metadata": {},
   "outputs": [],
   "source": [
    "df2"
   ]
  },
  {
   "cell_type": "code",
   "execution_count": null,
   "metadata": {},
   "outputs": [],
   "source": [
    "sheet=pd.ExcelWriter('test.xlsx') #  creates new excel sheet"
   ]
  },
  {
   "cell_type": "code",
   "execution_count": null,
   "metadata": {},
   "outputs": [],
   "source": [
    "df2.to_excel(sheet, index=False) #writes the dataframe to the excel sheet"
   ]
  },
  {
   "cell_type": "code",
   "execution_count": null,
   "metadata": {},
   "outputs": [],
   "source": [
    "sheet.save()"
   ]
  },
  {
   "cell_type": "code",
   "execution_count": null,
   "metadata": {},
   "outputs": [],
   "source": []
  },
  {
   "cell_type": "code",
   "execution_count": null,
   "metadata": {},
   "outputs": [],
   "source": []
  }
 ],
 "metadata": {
  "kernelspec": {
   "display_name": "Python 3",
   "language": "python",
   "name": "python3"
  },
  "language_info": {
   "codemirror_mode": {
    "name": "ipython",
    "version": 3
   },
   "file_extension": ".py",
   "mimetype": "text/x-python",
   "name": "python",
   "nbconvert_exporter": "python",
   "pygments_lexer": "ipython3",
   "version": "3.7.1"
  }
 },
 "nbformat": 4,
 "nbformat_minor": 2
}
